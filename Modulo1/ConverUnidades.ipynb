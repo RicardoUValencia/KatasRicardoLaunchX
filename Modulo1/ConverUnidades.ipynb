{
 "cells": [
  {
   "cell_type": "markdown",
   "metadata": {},
   "source": [
    "## Conversor de unidades"
   ]
  },
  {
   "cell_type": "markdown",
   "metadata": {},
   "source": [
    "### Convertimos cifras (parsec) a años luz"
   ]
  },
  {
   "cell_type": "code",
   "execution_count": 1,
   "metadata": {},
   "outputs": [
    {
     "name": "stdout",
     "output_type": "stream",
     "text": [
      "11 parsecs son 35.877159999999996 anos luz\n"
     ]
    }
   ],
   "source": [
    "parsec = 11 # unidades de parsec\n",
    "A_luz = 0 # Anos luz\n",
    "# 1 parsec = 3.26156 A_luz\n",
    "\n",
    "total_A_luz = parsec * 3.26156 # Total de A_luz\n",
    "\n",
    "print(str(parsec) + \" parsecs son \" + str(total_A_luz) + \" anos luz\") # Imprime el resultado"
   ]
  }
 ],
 "metadata": {
  "interpreter": {
   "hash": "ac59ebe37160ed0dfa835113d9b8498d9f09ceb179beaac4002f036b9467c963"
  },
  "kernelspec": {
   "display_name": "Python 3.9.7 64-bit",
   "language": "python",
   "name": "python3"
  },
  "language_info": {
   "codemirror_mode": {
    "name": "ipython",
    "version": 3
   },
   "file_extension": ".py",
   "mimetype": "text/x-python",
   "name": "python",
   "nbconvert_exporter": "python",
   "pygments_lexer": "ipython3",
   "version": "3.9.7"
  },
  "orig_nbformat": 4
 },
 "nbformat": 4,
 "nbformat_minor": 2
}
