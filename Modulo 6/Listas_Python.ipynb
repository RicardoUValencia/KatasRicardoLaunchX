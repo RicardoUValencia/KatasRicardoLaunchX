{
 "cells": [
  {
   "cell_type": "markdown",
   "metadata": {},
   "source": [
    "## Ejercicio 1 - Crear y usar listas en python"
   ]
  },
  {
   "cell_type": "code",
   "execution_count": 1,
   "metadata": {},
   "outputs": [
    {
     "name": "stdout",
     "output_type": "stream",
     "text": [
      "Hay 8 planetas en el sistema solar\n",
      "El numero de planetas es: 9\n",
      "El último planeta en la lista es: Plutón\n"
     ]
    }
   ],
   "source": [
    "# Creamos la lista planets y la mostramos\n",
    "planets = [\"Mercurio\", \"Venus\", \"Tierra\", \"Marte\", \"Jupiter\", \"Saturno\", \"Urano\", \"Neptuno\"]\n",
    "planetas = len(planets) # Obtenemos el numero de planetas\n",
    "print(\"Hay\", planetas, \"planetas en el sistema solar\") # Mostramos el numero de planetas\n",
    "\n",
    "# Agregamos a plutón y mostramos el último elemento\n",
    "planets.append(\"Plutón\") # Agregamos plutón a la lista\n",
    "print(\"El numero de planetas es:\", len(planets)) # Obtenemos el numero de planetas\n",
    "print(\"El último planeta en la lista es:\", planets[-1]) # Obtenemos el último elemento de la lista"
   ]
  },
  {
   "cell_type": "markdown",
   "metadata": {},
   "source": [
    "## Ejercicio 2 - Trabajando datos de una lista "
   ]
  },
  {
   "cell_type": "code",
   "execution_count": 5,
   "metadata": {},
   "outputs": [
    {
     "name": "stdout",
     "output_type": "stream",
     "text": [
      "El planeta Tierra está en la lista\n",
      "\n",
      "El planeta Tierra esta en la posicion 2\n",
      "Los planetas más cercanos al sol son:  ['Mercurio', 'Venus']\n",
      "Los planetas mas lejanos al sol son:  ['Urano', 'Neptuno']\n"
     ]
    }
   ],
   "source": [
    "# Lista de planetas\n",
    "planets = [\"Mercurio\", \"Venus\", \"Tierra\", \"Marte\", \"Jupiter\", \"Saturno\", \"Urano\", \"Neptuno\"]\n",
    "\n",
    "# Solicitamos el nombre de un planeta\n",
    "Nom_Planet = input(\"Ingrese el nombre del planeta: \")\n",
    "if Nom_Planet in planets: # Busca el planeta en la lista\n",
    "    print(\"El planeta\", Nom_Planet, \"está en la lista\\n\") # Mostramos el planeta\n",
    "else: # Si no está en la lista\n",
    "    print(\"El planeta no está en la lista\\n\") # Mostramos el mensaje \n",
    "\n",
    "# Busca el planeta en la lista\n",
    "planeta_index = planets.index(Nom_Planet) # Obtenemos el índice del planeta\n",
    "print(\"El planeta\", Nom_Planet, \"esta en la posicion\", planeta_index) # Mostramos el índice del planeta\n",
    "\n",
    "# Muestra los planetas más cercanos al sol\n",
    "Planetas_cercanos = planets[:2] # Obtenemos los dos primeros elementos de la lista planets\n",
    "print(\"Los planetas más cercanos al sol son: \", Planetas_cercanos) # Mostramos los dos primeros elementos de la lista\n",
    "\n",
    "# Muestra los planetas más lejanos al sol\n",
    "Planetas_lejanos = planets[6:8] # Obtenemos los dos últimos elementos de la lista planets\n",
    "print(\"Los planetas mas lejanos al sol son: \", Planetas_lejanos) # Mostramos los dos últimos elementos de la lista"
   ]
  }
 ],
 "metadata": {
  "interpreter": {
   "hash": "ac59ebe37160ed0dfa835113d9b8498d9f09ceb179beaac4002f036b9467c963"
  },
  "kernelspec": {
   "display_name": "Python 3.9.7 64-bit",
   "language": "python",
   "name": "python3"
  },
  "language_info": {
   "codemirror_mode": {
    "name": "ipython",
    "version": 3
   },
   "file_extension": ".py",
   "mimetype": "text/x-python",
   "name": "python",
   "nbconvert_exporter": "python",
   "pygments_lexer": "ipython3",
   "version": "3.9.7"
  },
  "orig_nbformat": 4
 },
 "nbformat": 4,
 "nbformat_minor": 2
}
