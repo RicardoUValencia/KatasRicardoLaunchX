{
 "cells": [
  {
   "cell_type": "markdown",
   "metadata": {},
   "source": [
    "# Convertir cadenas en números y usando valores absolutos"
   ]
  },
  {
   "cell_type": "code",
   "execution_count": null,
   "metadata": {},
   "outputs": [],
   "source": [
    "## El usuario ingresa las distancias de los planetas en cadena de texto\n",
    "dis_planeta1 = input(\"Ingrese distancia al planeta 1: \")\n",
    "dis_planeta2 = input(\"Ingrese distancia al planeta 2: \")\n",
    "\n",
    "# Convierte las cadenas de ambos planetas a números enteros\n",
    "valor1 = int(dis_planeta1)\n",
    "valor2 = int(dis_planeta2)\n",
    "\n",
    "# Calcula la distancia entre ambos planetas en km\n",
    "distancia = abs(valor1 - valor2) # abs() devuelve el valor absoluto de un numero en caso de que el usuario ingrese un valor negativo\n",
    "print(\"La distancia entre los planetas en km es: \",distancia)\n",
    "\n",
    "# Convierte la distancia de km a millas\n",
    "distancia_millas1 = valor1 * 0.621\n",
    "distancia_millas2 = valor2 * 0.621\n",
    "\n",
    "# Calcula la distancia entre ambos planetas en millas\n",
    "distancia_millas = abs(distancia_millas1 - distancia_millas2) # abs() devuelve el valor absoluto de un numero en caso de que el usuario ingrese un valor negativo\n",
    "print(\"La distancia entre los planetas en millas es: \",distancia_millas)"
   ]
  }
 ],
 "metadata": {
  "interpreter": {
   "hash": "ac59ebe37160ed0dfa835113d9b8498d9f09ceb179beaac4002f036b9467c963"
  },
  "kernelspec": {
   "display_name": "Python 3.9.7 64-bit",
   "language": "python",
   "name": "python3"
  },
  "language_info": {
   "codemirror_mode": {
    "name": "ipython",
    "version": 3
   },
   "file_extension": ".py",
   "mimetype": "text/x-python",
   "name": "python",
   "nbconvert_exporter": "python",
   "pygments_lexer": "ipython3",
   "version": "3.9.7"
  },
  "orig_nbformat": 4
 },
 "nbformat": 4,
 "nbformat_minor": 2
}
