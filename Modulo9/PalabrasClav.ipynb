{
 "cells": [
  {
   "cell_type": "markdown",
   "metadata": {},
   "source": [
    "## Trabajo con argumentos de palabras clave"
   ]
  },
  {
   "cell_type": "code",
   "execution_count": 2,
   "metadata": {},
   "outputs": [
    {
     "ename": "AttributeError",
     "evalue": "type object 'datetime.datetime' has no attribute 'datetime'",
     "output_type": "error",
     "traceback": [
      "\u001b[1;31m---------------------------------------------------------------------------\u001b[0m",
      "\u001b[1;31mAttributeError\u001b[0m                            Traceback (most recent call last)",
      "\u001b[1;32mc:\\Users\\Ricky UV\\Documents\\KatasRicardoLaunchX\\Modulo9\\PalabrasClav.ipynb Cell 2'\u001b[0m in \u001b[0;36m<module>\u001b[1;34m\u001b[0m\n\u001b[0;32m      <a href='vscode-notebook-cell:/c%3A/Users/Ricky%20UV/Documents/KatasRicardoLaunchX/Modulo9/PalabrasClav.ipynb#ch0000002?line=3'>4</a>\u001b[0m \u001b[39mfrom\u001b[39;00m \u001b[39mdatetime\u001b[39;00m \u001b[39mimport\u001b[39;00m timedelta, datetime \u001b[39m# Importamos la libreria datetime y timedelta \u001b[39;00m\n\u001b[0;32m      <a href='vscode-notebook-cell:/c%3A/Users/Ricky%20UV/Documents/KatasRicardoLaunchX/Modulo9/PalabrasClav.ipynb#ch0000002?line=4'>5</a>\u001b[0m \u001b[39m# Definimos la hora de prelanzamiento\u001b[39;00m\n\u001b[1;32m----> <a href='vscode-notebook-cell:/c%3A/Users/Ricky%20UV/Documents/KatasRicardoLaunchX/Modulo9/PalabrasClav.ipynb#ch0000002?line=5'>6</a>\u001b[0m hora_prelanzamiento \u001b[39m=\u001b[39m datetime\u001b[39m.\u001b[39;49mdatetime(\u001b[39m2020\u001b[39m, \u001b[39m5\u001b[39m, \u001b[39m1\u001b[39m, \u001b[39m12\u001b[39m, \u001b[39m00\u001b[39m, \u001b[39m00\u001b[39m)\n\u001b[0;32m      <a href='vscode-notebook-cell:/c%3A/Users/Ricky%20UV/Documents/KatasRicardoLaunchX/Modulo9/PalabrasClav.ipynb#ch0000002?line=6'>7</a>\u001b[0m \u001b[39m# Definimos el tiempo de vuelo\u001b[39;00m\n\u001b[0;32m      <a href='vscode-notebook-cell:/c%3A/Users/Ricky%20UV/Documents/KatasRicardoLaunchX/Modulo9/PalabrasClav.ipynb#ch0000002?line=7'>8</a>\u001b[0m tiempo_vuelo \u001b[39m=\u001b[39m datetime\u001b[39m.\u001b[39mtimedelta(hours\u001b[39m=\u001b[39m\u001b[39m5\u001b[39m, minutes\u001b[39m=\u001b[39m\u001b[39m30\u001b[39m, seconds\u001b[39m=\u001b[39m\u001b[39m00\u001b[39m)\n",
      "\u001b[1;31mAttributeError\u001b[0m: type object 'datetime.datetime' has no attribute 'datetime'"
     ]
    }
   ],
   "source": [
    "# Función con un informe preciso de la misión. \n",
    "# Considera hora de prelanzamiento, tiempo de vuelo, destino, tanque externo y tanque interno\n",
    "\n",
    "from datetime import timedelta, datetime # Importamos la libreria datetime y timedelta \n",
    "# Definimos la hora de prelanzamiento\n",
    "hora_prelanzamiento = datetime.datetime(2020, 5, 1, 12, 00, 00)\n",
    "# Definimos el tiempo de vuelo\n",
    "tiempo_vuelo = datetime.timedelta(hours=5, minutes=30, seconds=00)\n",
    "# Definimos el destino\n",
    "destino = \"Tierra\"\n",
    "# Definimos el tanque externo\n",
    "tanque_externo = 100\n",
    "# Definimos el tanque interno\n",
    "tanque_interno = 50\n",
    "# Definimos el tiempo de combustible\n",
    "tiempo_combustible = tanque_externo - tanque_interno\n",
    "\n",
    "def informe(hora_prelanzamiento, tiempo_vuelo, destino, tanque_externo, tanque_interno, tiempo_combustible): # Definimos la función\n",
    "    hora_final = hora_prelanzamiento + tiempo_vuelo # Calculamos la hora final\n",
    "    hora_final = hora_final.strftime(\"%H:%M:%S\") # Formateamos la hora final\n",
    "    return f\"\"\" \n",
    "    La misión ha sido lanzada el día {hora_prelanzamiento.strftime(\"%d/%m/%Y\")} a las {hora_prelanzamiento.strftime(\"%H:%M:%S\")}\n",
    "    El destino de la misión es {destino}\n",
    "    El tanque externo tiene {tanque_externo} litros\n",
    "    El tanque interno tiene {tanque_interno} litros\n",
    "    El tiempo de combustible es de {tiempo_combustible} litros\n",
    "    La hora final es {hora_final}\n",
    "    \"\"\" \n",
    "\n",
    "# Escribiendo la nueva función de reporte considerando lo anterior\n",
    "def nuevo_informe(destino, *minutes, **fuelreservations): \n",
    "    return f\"\"\"Destion: {destino}\n",
    "    Tiempo de vuelo: {minutes[0]} minutos\n",
    "    Tanque externo: {fuelreservations['external']} litros\n",
    "    Tanque interno: {fuelreservations['internal']} litros\n",
    "    Tiempo de combustible: {fuelreservations['external'] - fuelreservations['internal']} litros\n",
    "    \"\"\" # Retornamos el reporte\n",
    "print(nuevo_informe(\"Tierra\", 5, external=100, internal=50)) # Escribiendo la nueva funcion de reporte considerando lo anterior\n",
    "\n",
    "# Escribiendo la nueva funcion\n",
    "def nuevo_informe(destino, *minutes, **fuelreservations): \n",
    "    Reporte_info = f\"\"\"Destion: {destino} # \n",
    "    Tiempo de vuelo: {minutes[0]} minutos\n",
    "    Tanque externo: {fuelreservations['external']} litros\n",
    "    Tanque interno: {fuelreservations['internal']} litros\n",
    "    Tiempo de combustible: {fuelreservations['external'] - fuelreservations['internal']} litros\"\"\" \n",
    "\n",
    "    for tanque, litros in fuelreservations.items(): # Recorremos los tanques\n",
    "        Reporte_info += f\"\\nTanque {tanque} tiene {litros} litros\" # Agregamos el tanque y los litros\n",
    "    return Reporte_info # Retornamos el reporte\n",
    "\n",
    "print(nuevo_informe(\"Tierra\", 5, external=100, internal=50, tank1=50, tank2=100))"
   ]
  }
 ],
 "metadata": {
  "interpreter": {
   "hash": "ac59ebe37160ed0dfa835113d9b8498d9f09ceb179beaac4002f036b9467c963"
  },
  "kernelspec": {
   "display_name": "Python 3.9.7 64-bit",
   "language": "python",
   "name": "python3"
  },
  "language_info": {
   "codemirror_mode": {
    "name": "ipython",
    "version": 3
   },
   "file_extension": ".py",
   "mimetype": "text/x-python",
   "name": "python",
   "nbconvert_exporter": "python",
   "pygments_lexer": "ipython3",
   "version": "3.9.7"
  },
  "orig_nbformat": 4
 },
 "nbformat": 4,
 "nbformat_minor": 2
}
