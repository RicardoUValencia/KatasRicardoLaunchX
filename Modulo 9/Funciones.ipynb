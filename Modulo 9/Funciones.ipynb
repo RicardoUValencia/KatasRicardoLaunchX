{
 "cells": [
  {
   "cell_type": "markdown",
   "metadata": {},
   "source": [
    "## Uso de Funciones en Python"
   ]
  },
  {
   "cell_type": "code",
   "execution_count": 1,
   "metadata": {},
   "outputs": [
    {
     "name": "stdout",
     "output_type": "stream",
     "text": [
      "20.0\n",
      "26.0\n"
     ]
    },
    {
     "ename": "TypeError",
     "evalue": "'float' object is not callable",
     "output_type": "error",
     "traceback": [
      "\u001b[1;31m---------------------------------------------------------------------------\u001b[0m",
      "\u001b[1;31mTypeError\u001b[0m                                 Traceback (most recent call last)",
      "\u001b[1;32mc:\\Users\\Ricky UV\\Documents\\Microsoft Azure\\KatasRicardoLaunchX\\Modulo9\\Funciones.ipynb Cell 2'\u001b[0m in \u001b[0;36m<module>\u001b[1;34m\u001b[0m\n\u001b[0;32m     <a href='vscode-notebook-cell:/c%3A/Users/Ricky%20UV/Documents/Microsoft%20Azure/KatasRicardoLaunchX/Modulo9/Funciones.ipynb#ch0000001?line=16'>17</a>\u001b[0m     prom \u001b[39m=\u001b[39m (tanque1 \u001b[39m+\u001b[39m tanque2 \u001b[39m+\u001b[39m tanque3) \u001b[39m/\u001b[39m \u001b[39m3\u001b[39m \u001b[39m# Calculamos el promedio\u001b[39;00m\n\u001b[0;32m     <a href='vscode-notebook-cell:/c%3A/Users/Ricky%20UV/Documents/Microsoft%20Azure/KatasRicardoLaunchX/Modulo9/Funciones.ipynb#ch0000001?line=17'>18</a>\u001b[0m     \u001b[39mreturn\u001b[39;00m \u001b[39mf\u001b[39m\u001b[39m\"\"\"\u001b[39m\u001b[39mEl promedio es: \u001b[39m\u001b[39m{\u001b[39;00mprom([tanque1, tanque2, tanque3])\u001b[39m}\u001b[39;00m\u001b[39m\"\"\"\u001b[39m \u001b[39m# Retornamos el promedio\u001b[39;00m\n\u001b[1;32m---> <a href='vscode-notebook-cell:/c%3A/Users/Ricky%20UV/Documents/Microsoft%20Azure/KatasRicardoLaunchX/Modulo9/Funciones.ipynb#ch0000001?line=18'>19</a>\u001b[0m \u001b[39mprint\u001b[39m(combustible(\u001b[39m35\u001b[39;49m, \u001b[39m53\u001b[39;49m, \u001b[39m30\u001b[39;49m))\n",
      "\u001b[1;32mc:\\Users\\Ricky UV\\Documents\\Microsoft Azure\\KatasRicardoLaunchX\\Modulo9\\Funciones.ipynb Cell 2'\u001b[0m in \u001b[0;36mcombustible\u001b[1;34m(tanque1, tanque2, tanque3)\u001b[0m\n\u001b[0;32m     <a href='vscode-notebook-cell:/c%3A/Users/Ricky%20UV/Documents/Microsoft%20Azure/KatasRicardoLaunchX/Modulo9/Funciones.ipynb#ch0000001?line=15'>16</a>\u001b[0m \u001b[39mdef\u001b[39;00m \u001b[39mcombustible\u001b[39m(tanque1, tanque2, tanque3): \n\u001b[0;32m     <a href='vscode-notebook-cell:/c%3A/Users/Ricky%20UV/Documents/Microsoft%20Azure/KatasRicardoLaunchX/Modulo9/Funciones.ipynb#ch0000001?line=16'>17</a>\u001b[0m     prom \u001b[39m=\u001b[39m (tanque1 \u001b[39m+\u001b[39m tanque2 \u001b[39m+\u001b[39m tanque3) \u001b[39m/\u001b[39m \u001b[39m3\u001b[39m \u001b[39m# Calculamos el promedio\u001b[39;00m\n\u001b[1;32m---> <a href='vscode-notebook-cell:/c%3A/Users/Ricky%20UV/Documents/Microsoft%20Azure/KatasRicardoLaunchX/Modulo9/Funciones.ipynb#ch0000001?line=17'>18</a>\u001b[0m     \u001b[39mreturn\u001b[39;00m \u001b[39mf\u001b[39m\u001b[39m\"\"\"\u001b[39m\u001b[39mEl promedio es: \u001b[39m\u001b[39m{\u001b[39;00mprom([tanque1, tanque2, tanque3])\u001b[39m}\u001b[39;00m\u001b[39m\"\"\"\u001b[39m\n",
      "\u001b[1;31mTypeError\u001b[0m: 'float' object is not callable"
     ]
    }
   ],
   "source": [
    "# Función para leer 3 tanques de combustible y muestre el promedio\n",
    "def combustible(tanque1, tanque2, tanque3):\n",
    "    prom = (tanque1 + tanque2 + tanque3) / 3\n",
    "    return prom\n",
    "\n",
    "# Llamamos a la función que genera el reporte print(funcion(tanque1, tanque2, tanque3))\n",
    "print(combustible(10, 20, 30))\n",
    "\n",
    "# Funcion promedio\n",
    "def promedio(values): \n",
    "    prom = sum(values) / len(values) # Calculamos el promedio\n",
    "    return prom # Retornamos el promedio\n",
    "print(promedio([22, 25, 31])) \n",
    "\n",
    "# Actualiza la funcion\n",
    "def combustible(tanque1, tanque2, tanque3): \n",
    "    prom = (tanque1 + tanque2 + tanque3) / 3 # Calculamos el promedio\n",
    "    return f\"\"\"El promedio es: {prom([tanque1, tanque2, tanque3])}\"\"\" # Retornamos el promedio\n",
    "print(combustible(35, 53, 30)) "
   ]
  }
 ],
 "metadata": {
  "interpreter": {
   "hash": "ac59ebe37160ed0dfa835113d9b8498d9f09ceb179beaac4002f036b9467c963"
  },
  "kernelspec": {
   "display_name": "Python 3.9.7 64-bit",
   "language": "python",
   "name": "python3"
  },
  "language_info": {
   "codemirror_mode": {
    "name": "ipython",
    "version": 3
   },
   "file_extension": ".py",
   "mimetype": "text/x-python",
   "name": "python",
   "nbconvert_exporter": "python",
   "pygments_lexer": "ipython3",
   "version": "3.9.7"
  },
  "orig_nbformat": 4
 },
 "nbformat": 4,
 "nbformat_minor": 2
}
