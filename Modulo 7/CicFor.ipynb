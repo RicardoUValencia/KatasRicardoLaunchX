{
 "cells": [
  {
   "cell_type": "markdown",
   "metadata": {},
   "source": [
    "## Creacion de un ciclo for"
   ]
  },
  {
   "cell_type": "code",
   "execution_count": 1,
   "metadata": {},
   "outputs": [
    {
     "name": "stdout",
     "output_type": "stream",
     "text": [
      "S\n",
      "a\n",
      "t\n",
      "u\n",
      "r\n",
      "n\n",
      "o\n"
     ]
    }
   ],
   "source": [
    "new_planets = input(\"Introduce el nombre del planeta: \") # Esperamos que el usuario introduzca un nombre de planeta\n",
    "\n",
    "planets = [] # Lista vacia de planetas\n",
    "\n",
    "# Creacion del ciclo for para recorrer la lista planets\n",
    "for planet in new_planets: # Comprobamos que la variable new_planet contiene un valor\n",
    "    # planets.append(new_planets)\n",
    "    print(planet)"
   ]
  }
 ],
 "metadata": {
  "interpreter": {
   "hash": "ac59ebe37160ed0dfa835113d9b8498d9f09ceb179beaac4002f036b9467c963"
  },
  "kernelspec": {
   "display_name": "Python 3.9.7 64-bit",
   "language": "python",
   "name": "python3"
  },
  "language_info": {
   "codemirror_mode": {
    "name": "ipython",
    "version": 3
   },
   "file_extension": ".py",
   "mimetype": "text/x-python",
   "name": "python",
   "nbconvert_exporter": "python",
   "pygments_lexer": "ipython3",
   "version": "3.9.7"
  },
  "orig_nbformat": 4
 },
 "nbformat": 4,
 "nbformat_minor": 2
}
