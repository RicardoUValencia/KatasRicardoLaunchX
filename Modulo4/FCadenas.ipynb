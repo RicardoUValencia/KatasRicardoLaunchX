{
 "cells": [
  {
   "cell_type": "markdown",
   "metadata": {},
   "source": [
    "## Formateando cadenas"
   ]
  },
  {
   "cell_type": "code",
   "execution_count": 1,
   "metadata": {},
   "outputs": [
    {
     "name": "stdout",
     "output_type": "stream",
     "text": [
      "The Ganimedes is a satellite of the 0.00143 with Marte gravitational force.\n",
      "The Ganimedes is a satellite of the Marte with 1.4300000000000002 m/s^2 gravitational force.\n",
      "The %s is a satellite of the %s with %s gravitational force.\n"
     ]
    },
    {
     "ename": "AttributeError",
     "evalue": "'NoneType' object has no attribute 'format'",
     "output_type": "error",
     "traceback": [
      "\u001b[1;31m---------------------------------------------------------------------------\u001b[0m",
      "\u001b[1;31mAttributeError\u001b[0m                            Traceback (most recent call last)",
      "\u001b[1;32mc:\\Users\\Ricky UV\\Documents\\KatasRicardoLaunchX\\Modulo4\\FCadenas.ipynb Cell 2'\u001b[0m in \u001b[0;36m<module>\u001b[1;34m\u001b[0m\n\u001b[0;32m     <a href='vscode-notebook-cell:/c%3A/Users/Ricky%20UV/Documents/KatasRicardoLaunchX/Modulo4/FCadenas.ipynb#ch0000002?line=10'>11</a>\u001b[0m \u001b[39mprint\u001b[39m(\u001b[39mf\u001b[39m\u001b[39m'\u001b[39m\u001b[39mThe \u001b[39m\u001b[39m{\u001b[39;00mname\u001b[39m}\u001b[39;00m\u001b[39m is a satellite of the \u001b[39m\u001b[39m{\u001b[39;00mplaneth\u001b[39m}\u001b[39;00m\u001b[39m with \u001b[39m\u001b[39m{\u001b[39;00mgravity\u001b[39m*\u001b[39m\u001b[39m1000\u001b[39m\u001b[39m}\u001b[39;00m\u001b[39m m/s^2 gravitational force.\u001b[39m\u001b[39m'\u001b[39m) \u001b[39m# Formateando cadena con f-string\u001b[39;00m\n\u001b[0;32m     <a href='vscode-notebook-cell:/c%3A/Users/Ricky%20UV/Documents/KatasRicardoLaunchX/Modulo4/FCadenas.ipynb#ch0000002?line=12'>13</a>\u001b[0m \u001b[39m# Uniendo titulo y hechos\u001b[39;00m\n\u001b[1;32m---> <a href='vscode-notebook-cell:/c%3A/Users/Ricky%20UV/Documents/KatasRicardoLaunchX/Modulo4/FCadenas.ipynb#ch0000002?line=13'>14</a>\u001b[0m \u001b[39mprint\u001b[39;49m(\u001b[39m'\u001b[39;49m\u001b[39mThe \u001b[39;49m\u001b[39m%s\u001b[39;49;00m\u001b[39m is a satellite of the \u001b[39;49m\u001b[39m%s\u001b[39;49;00m\u001b[39m with \u001b[39;49m\u001b[39m%s\u001b[39;49;00m\u001b[39m gravitational force.\u001b[39;49m\u001b[39m'\u001b[39;49m)\u001b[39m.\u001b[39;49mformat(name, planeth, gravity\u001b[39m*\u001b[39m\u001b[39m1000\u001b[39m)\n",
      "\u001b[1;31mAttributeError\u001b[0m: 'NoneType' object has no attribute 'format'"
     ]
    }
   ],
   "source": [
    "# Datos \n",
    "name = \"Ganimedes\"\n",
    "gravity = 0.00143 #in kms\n",
    "planeth = \"Marte\"\n",
    "\n",
    "texto = \"\"\"The %s is a satellite of the %s with %s gravitational force.\"\"\" % (name, gravity, planeth) # Formateando cadena\n",
    "texto.upper() # Convierte a mayusculas\n",
    "texto.title() # Convierte a titulo\n",
    "print(texto) # Imprime el texto\n",
    "\n",
    "print(f'The {name} is a satellite of the {planeth} with {gravity*1000} m/s^2 gravitational force.') # Formateando cadena con f-string\n",
    "\n",
    "# Uniendo titulo y hechos\n",
    "print('The %s is a satellite of the %s with %s gravitational force.').format(name, planeth, gravity*1000)"
   ]
  }
 ],
 "metadata": {
  "interpreter": {
   "hash": "ac59ebe37160ed0dfa835113d9b8498d9f09ceb179beaac4002f036b9467c963"
  },
  "kernelspec": {
   "display_name": "Python 3.9.7 64-bit",
   "language": "python",
   "name": "python3"
  },
  "language_info": {
   "codemirror_mode": {
    "name": "ipython",
    "version": 3
   },
   "file_extension": ".py",
   "mimetype": "text/x-python",
   "name": "python",
   "nbconvert_exporter": "python",
   "pygments_lexer": "ipython3",
   "version": "3.9.7"
  },
  "orig_nbformat": 4
 },
 "nbformat": 4,
 "nbformat_minor": 2
}
