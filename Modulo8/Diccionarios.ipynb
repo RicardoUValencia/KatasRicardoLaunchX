{
 "cells": [
  {
   "cell_type": "markdown",
   "metadata": {},
   "source": [
    "## Creacion de diccionarios"
   ]
  },
  {
   "cell_type": "code",
   "execution_count": 1,
   "metadata": {},
   "outputs": [
    {
     "name": "stdout",
     "output_type": "stream",
     "text": [
      "El planeta es:  Mars  y tiene  2  lunas.\n",
      "El nombre del planeta es:  Mars  con una circunferencia de: 6752 km.\n"
     ]
    }
   ],
   "source": [
    "# Creacion de un diccionario llamado planet\n",
    "planet = {\n",
    "    'name': 'Mars',\n",
    "    'moons': 2\n",
    "}\n",
    "\n",
    "# Mostrando el nombre del planeta y el numero de lunas\n",
    "print(\"El planeta es: \" , planet['name'] , \" y tiene \" , planet.get('moons') , \" lunas.\")\n",
    "\n",
    "# Actualizando diccionario (Agregando un nuevo valor)\n",
    "planet['circunferencia (km)'] = ({\n",
    "    'polar': 6752,\n",
    "    'equatorial': 6792\n",
    "})\n",
    "\n",
    "# Impresion del planeta con su circunferencia polar\n",
    "print(\"El nombre del planeta es: \", planet.get('name'), \" con una circunferencia de:\", planet['circunferencia (km)']['polar'], \"km.\")"
   ]
  },
  {
   "cell_type": "markdown",
   "metadata": {},
   "source": [
    "## Programacion dinamica con diccionarios"
   ]
  },
  {
   "cell_type": "code",
   "execution_count": 2,
   "metadata": {},
   "outputs": [
    {
     "name": "stdout",
     "output_type": "stream",
     "text": [
      "El numero de elementos del diccionario es:  12\n",
      "El numero de lunas es:  0\n",
      "El numero de lunas es:  0\n",
      "El numero de lunas es:  1\n",
      "El numero de lunas es:  2\n",
      "El numero de lunas es:  79\n",
      "El numero de lunas es:  82\n",
      "El numero de lunas es:  27\n",
      "El numero de lunas es:  14\n",
      "El numero de lunas es:  5\n",
      "El numero de lunas es:  2\n",
      "El numero de lunas es:  1\n",
      "El numero de lunas es:  1\n"
     ]
    },
    {
     "ename": "TypeError",
     "evalue": "'int' object is not iterable",
     "output_type": "error",
     "traceback": [
      "\u001b[1;31m---------------------------------------------------------------------------\u001b[0m",
      "\u001b[1;31mTypeError\u001b[0m                                 Traceback (most recent call last)",
      "\u001b[1;32mc:\\Users\\Ricky UV\\Documents\\KatasRicardoLaunchX\\Modulo8\\Diccionarios.ipynb Cell 4'\u001b[0m in \u001b[0;36m<module>\u001b[1;34m\u001b[0m\n\u001b[0;32m     <a href='vscode-notebook-cell:/c%3A/Users/Ricky%20UV/Documents/KatasRicardoLaunchX/Modulo8/Diccionarios.ipynb#ch0000004?line=24'>25</a>\u001b[0m \u001b[39m# Contamos el numero de lunas\u001b[39;00m\n\u001b[0;32m     <a href='vscode-notebook-cell:/c%3A/Users/Ricky%20UV/Documents/KatasRicardoLaunchX/Modulo8/Diccionarios.ipynb#ch0000004?line=25'>26</a>\u001b[0m total_moons \u001b[39m=\u001b[39m \u001b[39m0\u001b[39m\n\u001b[1;32m---> <a href='vscode-notebook-cell:/c%3A/Users/Ricky%20UV/Documents/KatasRicardoLaunchX/Modulo8/Diccionarios.ipynb#ch0000004?line=26'>27</a>\u001b[0m \u001b[39mfor\u001b[39;00m moons \u001b[39min\u001b[39;00m total_moons:\n\u001b[0;32m     <a href='vscode-notebook-cell:/c%3A/Users/Ricky%20UV/Documents/KatasRicardoLaunchX/Modulo8/Diccionarios.ipynb#ch0000004?line=27'>28</a>\u001b[0m     total_moons \u001b[39m+\u001b[39m\u001b[39m=\u001b[39m moons\n\u001b[0;32m     <a href='vscode-notebook-cell:/c%3A/Users/Ricky%20UV/Documents/KatasRicardoLaunchX/Modulo8/Diccionarios.ipynb#ch0000004?line=28'>29</a>\u001b[0m     prom \u001b[39m=\u001b[39m total_moons \u001b[39m/\u001b[39m planets\n",
      "\u001b[1;31mTypeError\u001b[0m: 'int' object is not iterable"
     ]
    }
   ],
   "source": [
    "# Diccionario de planetas y lunas\n",
    "planet_moons = {\n",
    "    'mercury': 0,\n",
    "    'venus': 0,\n",
    "    'earth': 1,\n",
    "    'mars': 2,\n",
    "    'jupiter': 79,\n",
    "    'saturn': 82,\n",
    "    'uranus': 27,\n",
    "    'neptune': 14,\n",
    "    'pluto': 5,\n",
    "    'haumea': 2,\n",
    "    'makemake': 1,\n",
    "    'eris': 1\n",
    "}\n",
    "\n",
    "# El numero de elementos del diccionario\n",
    "print(\"El numero de elementos del diccionario es: \", len(planet_moons))\n",
    "\n",
    "# Iteramos sobre el diccionario con un ciclo for, es decir, determinamos el numero de lunas\n",
    "for moons in planet_moons.values():\n",
    "    planets = len(planet_moons.keys()) # Numero de planetas\n",
    "    print(\"El numero de lunas es: \", moons)\n",
    "\n",
    "# Contamos el numero de lunas\n",
    "total_moons = 0\n",
    "for moons in total_moons:\n",
    "    total_moons += moons\n",
    "    prom = total_moons / planets\n",
    "print(\"El promedio es: \", prom)"
   ]
  }
 ],
 "metadata": {
  "interpreter": {
   "hash": "ac59ebe37160ed0dfa835113d9b8498d9f09ceb179beaac4002f036b9467c963"
  },
  "kernelspec": {
   "display_name": "Python 3.9.7 64-bit",
   "language": "python",
   "name": "python3"
  },
  "language_info": {
   "codemirror_mode": {
    "name": "ipython",
    "version": 3
   },
   "file_extension": ".py",
   "mimetype": "text/x-python",
   "name": "python",
   "nbconvert_exporter": "python",
   "pygments_lexer": "ipython3",
   "version": "3.9.7"
  },
  "orig_nbformat": 4
 },
 "nbformat": 4,
 "nbformat_minor": 2
}
