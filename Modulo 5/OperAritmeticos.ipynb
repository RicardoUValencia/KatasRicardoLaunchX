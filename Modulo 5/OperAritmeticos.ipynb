{
 "cells": [
  {
   "cell_type": "markdown",
   "metadata": {},
   "source": [
    "# Ejercicio 1 - Operaciones Aritmeticos"
   ]
  },
  {
   "cell_type": "code",
   "execution_count": null,
   "metadata": {},
   "outputs": [],
   "source": [
    "from turtle import distance # Importamos la funcion distance de turtle\n",
    "distanceT = 149597870 # Distancia de la tierra en km\n",
    "distanceJ = 778547200 # Distancia de Jupiter en km\n",
    "\n",
    "print(\"La distancia de la tierra es:\", distanceT)\n",
    "print(\"La distancia de Jupiter es:\", distanceJ)\n",
    "\n",
    "# Calculamos la distancia entre los dos planetas en km\n",
    "distance_planetas = abs(distanceT - distanceJ) # abs() devuelve el valor absoluto de un numero\n",
    "print(\"La distancia entre los dos planetas en km es: \" , distance_planetas)\n",
    "\n",
    "# Convertimos las distancias de km a millas \n",
    "distanceTierra = distanceT * 0.621\n",
    "distanceJupiter = distanceJ * 0.621\n",
    "\n",
    "# Imprimimos las distancias en millas\n",
    "print(\"La distancia de la tierra es:\", distanceTierra, \"millas\")\n",
    "print(\"La distancia de Jupiter es:\", distanceJupiter, \"millas\")\n",
    "\n",
    "# Calculamos la distancia entre los dos planetas en millas\n",
    "distance_planetas = abs(distanceT - distanceJ) # abs() devuelve el valor absoluto de un numero\n",
    "print(\"La distancia entre los dos planetas en millas es: \" ,distance_planetas)"
   ]
  }
 ],
 "metadata": {
  "interpreter": {
   "hash": "ac59ebe37160ed0dfa835113d9b8498d9f09ceb179beaac4002f036b9467c963"
  },
  "kernelspec": {
   "display_name": "Python 3.9.7 64-bit",
   "language": "python",
   "name": "python3"
  },
  "language_info": {
   "codemirror_mode": {
    "name": "ipython",
    "version": 3
   },
   "file_extension": ".py",
   "mimetype": "text/x-python",
   "name": "python",
   "nbconvert_exporter": "python",
   "pygments_lexer": "ipython3",
   "version": "3.9.7"
  },
  "orig_nbformat": 4
 },
 "nbformat": 4,
 "nbformat_minor": 2
}
